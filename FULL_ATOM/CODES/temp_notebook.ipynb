{
 "cells": [
  {
   "cell_type": "code",
   "execution_count": 1,
   "id": "63c66d95",
   "metadata": {},
   "outputs": [
    {
     "name": "stderr",
     "output_type": "stream",
     "text": [
      "/home/clod/anaconda3/envs/pytorch/lib/python3.9/site-packages/tqdm/auto.py:21: TqdmWarning: IProgress not found. Please update jupyter and ipywidgets. See https://ipywidgets.readthedocs.io/en/stable/user_install.html\n",
      "  from .autonotebook import tqdm as notebook_tqdm\n"
     ]
    }
   ],
   "source": [
    "import torch\n",
    "import MDAnalysis as mda\n",
    "from torch_geometric.data import Data, InMemoryDataset\n",
    "import numpy as np\n",
    "import os\n",
    "import os.path as osp\n",
    "import warnings\n",
    "import matplotlib.pyplot as plt\n",
    "import networkx as nx\n",
    "from torch_geometric.utils import to_networkx\n",
    "from mpl_toolkits.mplot3d import Axes3D # For 3D plotting\n",
    "\n",
    "#from full_VGAE_egnn_clean import *\n",
    "\n",
    "from torch.utils.data import random_split\n",
    "from torch_geometric.data import Data\n",
    "from torch_geometric.loader import DataLoader\n",
    "import torch\n",
    "import pandas as pd\n",
    "import torch_geometric.transforms as T\n",
    "from torch_geometric.nn.pool import global_mean_pool\n",
    "import math\n",
    "\n",
    "from torch.utils.tensorboard import SummaryWriter\n",
    "import itertools\n",
    "from sklearn.preprocessing import StandardScaler\n",
    "\n",
    "\n",
    "from torch_geometric.nn import summary, VGAE\n",
    "from tqdm import tqdm\n"
   ]
  },
  {
   "cell_type": "code",
   "execution_count": null,
   "id": "2ec74d3f",
   "metadata": {},
   "outputs": [
    {
     "name": "stdout",
     "output_type": "stream",
     "text": [
      "Loading dataset ...\n",
      "\n",
      "No root directory provided, using default path ...\n",
      "Successfully loaded processed data from /home/clod/Desktop/THESIS_2/FULL_ATOM/DATA/processed/data_MD_protein.pt\n",
      "\n",
      "Scaling positions... Max absolute position values for scaling: tensor([28.9800, 29.0000, 29.0100])\n",
      "Positions shape: torch.Size([20032, 52, 3])\n",
      "Including atom features: performing one hot encoding ...\n",
      "Scaling features ...\n",
      "not aligning the frames ...\n",
      "Dataset created with 20032 graphs.\n",
      "Number of graphs in the dataset: 20032\n",
      "Number of features in the dataset: 6\n",
      "Number of edges in the dataset: 102\n",
      "Number of nodes in the dataset: 52\n",
      "Number of features in the dataset: torch.Size([52, 6])\n",
      "\n"
     ]
    },
    {
     "data": {
      "text/plain": [
       "Data(x=[52, 6], edge_index=[2, 102], pos=[52, 3])"
      ]
     },
     "execution_count": 4,
     "metadata": {},
     "output_type": "execute_result"
    }
   ],
   "source": [
    "import sys\n",
    "sys.path.append(\"LIBS\")\n",
    "from LIBS.utils import *\n",
    "\n",
    "dataset = get_dataset(initial_alignment=False)\n",
    "\n",
    "train_loader, val_loader, test_loader = create_data_loaders(dataset)\n"
   ]
  }
 ],
 "metadata": {
  "kernelspec": {
   "display_name": "pytorch",
   "language": "python",
   "name": "python3"
  },
  "language_info": {
   "codemirror_mode": {
    "name": "ipython",
    "version": 3
   },
   "file_extension": ".py",
   "mimetype": "text/x-python",
   "name": "python",
   "nbconvert_exporter": "python",
   "pygments_lexer": "ipython3",
   "version": "3.9.21"
  }
 },
 "nbformat": 4,
 "nbformat_minor": 5
}
